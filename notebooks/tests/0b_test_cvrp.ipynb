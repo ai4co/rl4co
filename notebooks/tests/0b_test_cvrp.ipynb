{
  "cells": [
    {
      "attachments": {},
      "cell_type": "markdown",
      "metadata": {},
      "source": [
        "# Data generation"
      ]
    },
    {
      "cell_type": "code",
      "execution_count": 23,
      "metadata": {},
      "outputs": [
        {
          "name": "stdout",
          "output_type": "stream",
          "text": [
            "The autoreload extension is already loaded. To reload it, use:\n",
            "  %reload_ext autoreload\n"
          ]
        }
      ],
      "source": [
        "%load_ext autoreload\n",
        "%autoreload 2\n",
        "\n",
        "import sys; sys.path.append(2*'../')\n",
        "\n",
        "import numpy as np\n",
        "import torch\n",
        "from torch import nn"
      ]
    },
    {
      "cell_type": "code",
      "execution_count": 24,
      "metadata": {},
      "outputs": [],
      "source": [
        "from rl4co.envs import TSPEnv, CVRPEnv\n",
        "\n",
        "env = CVRPEnv()"
      ]
    },
    {
      "cell_type": "code",
      "execution_count": 25,
      "metadata": {},
      "outputs": [],
      "source": [
        "# env.dataset(10000)\n",
        "\n",
        "data = env.generate_data(10000)"
      ]
    },
    {
      "cell_type": "code",
      "execution_count": 26,
      "metadata": {},
      "outputs": [
        {
          "name": "stdout",
          "output_type": "stream",
          "text": [
            "mean 0.17 std 0.09 min 0.03 max 0.30\n",
            "mean 0.50 std 0.29 min 0.00 max 1.00\n",
            "mean 0.50 std 0.29 min 0.00 max 1.00\n"
          ]
        }
      ],
      "source": [
        "# data['demand'].\n",
        "\n",
        "def print_stats(x):\n",
        "    print(\"mean {:.2f} std {:.2f} min {:.2f} max {:.2f}\".format(x.mean(), x.std(), x.min(), x.max()))\n",
        "\n",
        "print_stats(data['demand'][..., 1:])\n",
        "print_stats(data['locs'])\n",
        "print_stats(data['depot'])"
      ]
    },
    {
      "cell_type": "code",
      "execution_count": 27,
      "metadata": {},
      "outputs": [],
      "source": [
        "size = 20\n",
        "\n",
        "def original_generate_data(num_samples):\n",
        "\n",
        "    CAPACITIES = {\n",
        "        10: 20.,\n",
        "        20: 30.,\n",
        "        50: 40.,\n",
        "        100: 50.\n",
        "    }\n",
        "\n",
        "    data_orig = [\n",
        "        {\n",
        "            'loc': torch.FloatTensor(size, 2).uniform_(0, 1),\n",
        "            # Uniform 1 - 9, scaled by capacities\n",
        "            'demand': (torch.FloatTensor(size).uniform_(0, 9).int() + 1).float() / CAPACITIES[size],\n",
        "            'depot': torch.FloatTensor(2).uniform_(0, 1)\n",
        "        }\n",
        "        for i in range(num_samples)\n",
        "    ]\n",
        "\n",
        "    # make dict of tensors\n",
        "    data_orig = {\n",
        "        'loc': torch.stack([d['loc'] for d in data_orig]),\n",
        "        'demand': torch.stack([d['demand'] for d in data_orig]),\n",
        "        'depot': torch.stack([d['depot'] for d in data_orig])\n",
        "    }\n",
        "    return data_orig\n",
        "\n",
        "original = original_generate_data(10000)\n"
      ]
    },
    {
      "cell_type": "code",
      "execution_count": 28,
      "metadata": {},
      "outputs": [
        {
          "name": "stdout",
          "output_type": "stream",
          "text": [
            "mean 0.17 std 0.09 min 0.03 max 0.30\n",
            "mean 0.50 std 0.29 min 0.00 max 1.00\n",
            "mean 0.50 std 0.29 min 0.00 max 1.00\n"
          ]
        }
      ],
      "source": [
        "print_stats(original['demand'])\n",
        "print_stats(original['loc'])\n",
        "print_stats(original['depot'])"
      ]
    }
  ],
  "metadata": {
    "kernelspec": {
      "display_name": "env",
      "language": "python",
      "name": "python3"
    },
    "language_info": {
      "codemirror_mode": {
        "name": "ipython",
        "version": 3
      },
      "file_extension": ".py",
      "mimetype": "text/x-python",
      "name": "python",
      "nbconvert_exporter": "python",
      "pygments_lexer": "ipython3",
      "version": "3.10.9"
    },
    "vscode": {
      "interpreter": {
        "hash": "fbc5b198709957cb10390a2819ca930d3578f48e335d60395e01c5208a66cb86"
      }
    }
  },
  "nbformat": 4,
  "nbformat_minor": 0
}
