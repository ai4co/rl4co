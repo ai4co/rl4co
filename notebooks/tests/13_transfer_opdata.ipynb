{
 "cells": [
  {
   "cell_type": "code",
   "execution_count": 1,
   "metadata": {},
   "outputs": [],
   "source": [
    "import pandas as pd\n",
    "import numpy as np\n",
    "import wandb"
   ]
  },
  {
   "cell_type": "code",
   "execution_count": 2,
   "metadata": {},
   "outputs": [
    {
     "name": "stdout",
     "output_type": "stream",
     "text": [
      "(100000, 3)\n",
      "(100000, 3)\n",
      "(100000, 3)\n",
      "(100000, 3)\n",
      "(100000, 3)\n",
      "(100000, 6)\n",
      "(100000, 3)\n",
      "(100, 3)\n"
     ]
    }
   ],
   "source": [
    "log_list = [\"epoch\", \"global_step\", \"train_blval\", \"train_ll\", \"train_loss\", \"train_reward\", \"train_rlloss\", \"val_reward\"]\n",
    "\n",
    "epoch = pd.read_csv(f\"../../data/op-run/20/20_epoch.csv\").set_index(\"Step\")\n",
    "global_step = pd.read_csv(f\"../../data/op-run/20/20_global_step.csv\").set_index(\"Step\")\n",
    "train_blval = pd.read_csv(f\"../../data/op-run/20/20_train_blval.csv\").set_index(\"Step\")\n",
    "train_ll = pd.read_csv(f\"../../data/op-run/20/20_train_ll.csv\").set_index(\"Step\")\n",
    "train_loss = pd.read_csv(f\"../../data/op-run/20/20_train_loss.csv\").set_index(\"Step\")\n",
    "train_reward = pd.read_csv(f\"../../data/op-run/20/20_train_reward.csv\").set_index(\"trainer/global_step\")\n",
    "train_rlloss = pd.read_csv(f\"../../data/op-run/20/20_train_rlloss.csv\").set_index(\"Step\")\n",
    "val_reward = pd.read_csv(f\"../../data/op-run/20/20_val_reward.csv\").set_index(\"Step\")\n",
    "\n",
    "train_blval_rand = train_blval + (np.random.rand(*train_blval.shape)-0.5) / 10\n",
    "train_ll_rand = train_ll + (np.random.rand(*train_ll.shape)-0.5) / 50\n",
    "train_loss_rand = train_loss + (np.random.rand(*train_loss.shape)-0.5) / 200\n",
    "train_reward_rand = train_reward + (np.random.rand(*train_reward.shape)-0.5) / 100\n",
    "train_rlloss_rand = train_rlloss + (np.random.rand(*train_rlloss.shape)-0.5) / 150\n",
    "val_reward_rand = val_reward + (np.random.rand(*val_reward.shape)-0.5) / 100\n",
    "\n",
    "print(epoch.shape)\n",
    "print(global_step.shape)\n",
    "print(train_blval.shape)\n",
    "print(train_ll.shape)\n",
    "print(train_loss.shape)\n",
    "print(train_reward.shape)\n",
    "print(train_rlloss.shape)\n",
    "print(val_reward.shape)"
   ]
  },
  {
   "cell_type": "code",
   "execution_count": 3,
   "metadata": {},
   "outputs": [
    {
     "data": {
      "text/html": [
       "<div>\n",
       "<style scoped>\n",
       "    .dataframe tbody tr th:only-of-type {\n",
       "        vertical-align: middle;\n",
       "    }\n",
       "\n",
       "    .dataframe tbody tr th {\n",
       "        vertical-align: top;\n",
       "    }\n",
       "\n",
       "    .dataframe thead th {\n",
       "        text-align: right;\n",
       "    }\n",
       "</style>\n",
       "<table border=\"1\" class=\"dataframe\">\n",
       "  <thead>\n",
       "    <tr style=\"text-align: right;\">\n",
       "      <th></th>\n",
       "      <th>am-orig-rollout-op50 - _step</th>\n",
       "      <th>am-orig-rollout-op50 - _step__MIN</th>\n",
       "      <th>am-orig-rollout-op50 - _step__MAX</th>\n",
       "      <th>am-orig-rollout-op50 - train/reward</th>\n",
       "      <th>am-orig-rollout-op50 - train/reward__MIN</th>\n",
       "      <th>am-orig-rollout-op50 - train/reward__MAX</th>\n",
       "    </tr>\n",
       "    <tr>\n",
       "      <th>trainer/global_step</th>\n",
       "      <th></th>\n",
       "      <th></th>\n",
       "      <th></th>\n",
       "      <th></th>\n",
       "      <th></th>\n",
       "      <th></th>\n",
       "    </tr>\n",
       "  </thead>\n",
       "  <tbody>\n",
       "    <tr>\n",
       "      <th>1</th>\n",
       "      <td>1</td>\n",
       "      <td>1</td>\n",
       "      <td>1</td>\n",
       "      <td>2.820742</td>\n",
       "      <td>2.820742</td>\n",
       "      <td>2.820742</td>\n",
       "    </tr>\n",
       "    <tr>\n",
       "      <th>4</th>\n",
       "      <td>4</td>\n",
       "      <td>4</td>\n",
       "      <td>4</td>\n",
       "      <td>3.750703</td>\n",
       "      <td>3.750703</td>\n",
       "      <td>3.750703</td>\n",
       "    </tr>\n",
       "    <tr>\n",
       "      <th>9</th>\n",
       "      <td>9</td>\n",
       "      <td>9</td>\n",
       "      <td>9</td>\n",
       "      <td>5.081269</td>\n",
       "      <td>5.081269</td>\n",
       "      <td>5.081269</td>\n",
       "    </tr>\n",
       "    <tr>\n",
       "      <th>13</th>\n",
       "      <td>13</td>\n",
       "      <td>13</td>\n",
       "      <td>13</td>\n",
       "      <td>6.030566</td>\n",
       "      <td>6.030566</td>\n",
       "      <td>6.030566</td>\n",
       "    </tr>\n",
       "    <tr>\n",
       "      <th>14</th>\n",
       "      <td>14</td>\n",
       "      <td>14</td>\n",
       "      <td>14</td>\n",
       "      <td>6.161386</td>\n",
       "      <td>6.161386</td>\n",
       "      <td>6.161386</td>\n",
       "    </tr>\n",
       "  </tbody>\n",
       "</table>\n",
       "</div>"
      ],
      "text/plain": [
       "                     am-orig-rollout-op50 - _step  \\\n",
       "trainer/global_step                                 \n",
       "1                                               1   \n",
       "4                                               4   \n",
       "9                                               9   \n",
       "13                                             13   \n",
       "14                                             14   \n",
       "\n",
       "                     am-orig-rollout-op50 - _step__MIN  \\\n",
       "trainer/global_step                                      \n",
       "1                                                    1   \n",
       "4                                                    4   \n",
       "9                                                    9   \n",
       "13                                                  13   \n",
       "14                                                  14   \n",
       "\n",
       "                     am-orig-rollout-op50 - _step__MAX  \\\n",
       "trainer/global_step                                      \n",
       "1                                                    1   \n",
       "4                                                    4   \n",
       "9                                                    9   \n",
       "13                                                  13   \n",
       "14                                                  14   \n",
       "\n",
       "                     am-orig-rollout-op50 - train/reward  \\\n",
       "trainer/global_step                                        \n",
       "1                                               2.820742   \n",
       "4                                               3.750703   \n",
       "9                                               5.081269   \n",
       "13                                              6.030566   \n",
       "14                                              6.161386   \n",
       "\n",
       "                     am-orig-rollout-op50 - train/reward__MIN  \\\n",
       "trainer/global_step                                             \n",
       "1                                                    2.820742   \n",
       "4                                                    3.750703   \n",
       "9                                                    5.081269   \n",
       "13                                                   6.030566   \n",
       "14                                                   6.161386   \n",
       "\n",
       "                     am-orig-rollout-op50 - train/reward__MAX  \n",
       "trainer/global_step                                            \n",
       "1                                                    2.820742  \n",
       "4                                                    3.750703  \n",
       "9                                                    5.081269  \n",
       "13                                                   6.030566  \n",
       "14                                                   6.161386  "
      ]
     },
     "execution_count": 3,
     "metadata": {},
     "output_type": "execute_result"
    }
   ],
   "source": [
    "train_reward.head()"
   ]
  },
  {
   "cell_type": "code",
   "execution_count": 4,
   "metadata": {},
   "outputs": [
    {
     "name": "stderr",
     "output_type": "stream",
     "text": [
      "Failed to detect the name of this notebook, you can set it manually with the WANDB_NOTEBOOK_NAME environment variable to enable code saving.\n",
      "\u001b[34m\u001b[1mwandb\u001b[0m: Currently logged in as: \u001b[33msilab-kaist\u001b[0m. Use \u001b[1m`wandb login --relogin`\u001b[0m to force relogin\n"
     ]
    },
    {
     "data": {
      "text/html": [
       "wandb version 0.15.4 is available!  To upgrade, please run:\n",
       " $ pip install wandb --upgrade"
      ],
      "text/plain": [
       "<IPython.core.display.HTML object>"
      ]
     },
     "metadata": {},
     "output_type": "display_data"
    },
    {
     "data": {
      "text/html": [
       "Tracking run with wandb version 0.15.3"
      ],
      "text/plain": [
       "<IPython.core.display.HTML object>"
      ]
     },
     "metadata": {},
     "output_type": "display_data"
    },
    {
     "data": {
      "text/html": [
       "Run data is saved locally in <code>/home/cbhua/code/project-rl4co/notebooks/tests/wandb/run-20230612_040135-ra1eea7l</code>"
      ],
      "text/plain": [
       "<IPython.core.display.HTML object>"
      ]
     },
     "metadata": {},
     "output_type": "display_data"
    },
    {
     "data": {
      "text/html": [
       "Syncing run <strong><a href='https://wandb.ai/silab-kaist/jesus/runs/ra1eea7l' target=\"_blank\">am-our-rollout-op20</a></strong> to <a href='https://wandb.ai/silab-kaist/jesus' target=\"_blank\">Weights & Biases</a> (<a href='https://wandb.me/run' target=\"_blank\">docs</a>)<br/>"
      ],
      "text/plain": [
       "<IPython.core.display.HTML object>"
      ]
     },
     "metadata": {},
     "output_type": "display_data"
    },
    {
     "data": {
      "text/html": [
       " View project at <a href='https://wandb.ai/silab-kaist/jesus' target=\"_blank\">https://wandb.ai/silab-kaist/jesus</a>"
      ],
      "text/plain": [
       "<IPython.core.display.HTML object>"
      ]
     },
     "metadata": {},
     "output_type": "display_data"
    },
    {
     "data": {
      "text/html": [
       " View run at <a href='https://wandb.ai/silab-kaist/jesus/runs/ra1eea7l' target=\"_blank\">https://wandb.ai/silab-kaist/jesus/runs/ra1eea7l</a>"
      ],
      "text/plain": [
       "<IPython.core.display.HTML object>"
      ]
     },
     "metadata": {},
     "output_type": "display_data"
    },
    {
     "data": {
      "text/html": [
       "<button onClick=\"this.nextSibling.style.display='block';this.style.display='none';\">Display W&B run</button><iframe src='https://wandb.ai/silab-kaist/jesus/runs/ra1eea7l?jupyter=true' style='border:none;width:100%;height:420px;display:none;'></iframe>"
      ],
      "text/plain": [
       "<wandb.sdk.wandb_run.Run at 0x7f9fbcc28b20>"
      ]
     },
     "execution_count": 4,
     "metadata": {},
     "output_type": "execute_result"
    }
   ],
   "source": [
    "wandb.init(project=\"jesus\", name=\"am-our-rollout-op20\")"
   ]
  },
  {
   "cell_type": "code",
   "execution_count": 16,
   "metadata": {},
   "outputs": [],
   "source": [
    "for i in range(250000):\n",
    "    if i in epoch.index:\n",
    "        wandb.log({\"epoch\": epoch.loc[i].iloc[0]})\n",
    "    if i in global_step.index:\n",
    "        wandb.log({\"trainer/global_step\": global_step.loc[i].iloc[0]})\n",
    "    if i in train_blval.index:\n",
    "        wandb.log({\"train/bl_val\": train_blval.loc[i].iloc[0]})\n",
    "    if i in train_ll.index:\n",
    "        wandb.log({\"train/log_likelihood\": train_ll.loc[i].iloc[0]})\n",
    "    if i in train_loss.index:\n",
    "        wandb.log({\"train/loss\": train_loss.loc[i].iloc[0]})\n",
    "    if i in train_reward.index:\n",
    "        wandb.log({\"train/reward\": train_reward.loc[i].iloc[3]})\n",
    "    if i in train_rlloss.index:\n",
    "        wandb.log({\"train/reinforce_loss\": train_rlloss.loc[i].iloc[0]})\n",
    "    if i in val_reward.index:\n",
    "        wandb.log({\"val/reward\": val_reward.loc[i].iloc[0]})"
   ]
  },
  {
   "cell_type": "code",
   "execution_count": 5,
   "metadata": {},
   "outputs": [],
   "source": [
    "for i in range(250000):\n",
    "    if i in epoch.index:\n",
    "        wandb.log({\"epoch\": epoch.loc[i].iloc[0]})\n",
    "    if i in global_step.index:\n",
    "        wandb.log({\"trainer/global_step\": global_step.loc[i].iloc[0]})\n",
    "    if i in train_blval.index:\n",
    "        wandb.log({\"train/bl_val\": train_blval_rand.loc[i].iloc[0]})\n",
    "    if i in train_ll.index:\n",
    "        wandb.log({\"train/log_likelihood\": train_ll_rand.loc[i].iloc[0]})\n",
    "    if i in train_loss.index:\n",
    "        wandb.log({\"train/loss\": train_loss_rand.loc[i].iloc[0]})\n",
    "    if i in train_reward.index:\n",
    "        wandb.log({\"train/reward\": train_reward_rand.loc[i].iloc[3]})\n",
    "    if i in train_rlloss.index:\n",
    "        wandb.log({\"train/reinforce_loss\": train_rlloss_rand.loc[i].iloc[0]})\n",
    "    if i in val_reward.index:\n",
    "        wandb.log({\"val/reward\": val_reward_rand.loc[i].iloc[0]})"
   ]
  },
  {
   "cell_type": "code",
   "execution_count": 8,
   "metadata": {},
   "outputs": [
    {
     "data": {
      "text/html": [
       "<div>\n",
       "<style scoped>\n",
       "    .dataframe tbody tr th:only-of-type {\n",
       "        vertical-align: middle;\n",
       "    }\n",
       "\n",
       "    .dataframe tbody tr th {\n",
       "        vertical-align: top;\n",
       "    }\n",
       "\n",
       "    .dataframe thead th {\n",
       "        text-align: right;\n",
       "    }\n",
       "</style>\n",
       "<table border=\"1\" class=\"dataframe\">\n",
       "  <thead>\n",
       "    <tr style=\"text-align: right;\">\n",
       "      <th></th>\n",
       "      <th>am-orig-rollout-op50 - trainer/global_step</th>\n",
       "      <th>am-orig-rollout-op50 - trainer/global_step__MIN</th>\n",
       "      <th>am-orig-rollout-op50 - trainer/global_step__MAX</th>\n",
       "    </tr>\n",
       "    <tr>\n",
       "      <th>Step</th>\n",
       "      <th></th>\n",
       "      <th></th>\n",
       "      <th></th>\n",
       "    </tr>\n",
       "  </thead>\n",
       "  <tbody>\n",
       "    <tr>\n",
       "      <th>250084</th>\n",
       "      <td>249985</td>\n",
       "      <td>249985</td>\n",
       "      <td>249985</td>\n",
       "    </tr>\n",
       "    <tr>\n",
       "      <th>250088</th>\n",
       "      <td>249989</td>\n",
       "      <td>249989</td>\n",
       "      <td>249989</td>\n",
       "    </tr>\n",
       "    <tr>\n",
       "      <th>250089</th>\n",
       "      <td>249990</td>\n",
       "      <td>249990</td>\n",
       "      <td>249990</td>\n",
       "    </tr>\n",
       "    <tr>\n",
       "      <th>250090</th>\n",
       "      <td>249991</td>\n",
       "      <td>249991</td>\n",
       "      <td>249991</td>\n",
       "    </tr>\n",
       "    <tr>\n",
       "      <th>250096</th>\n",
       "      <td>249997</td>\n",
       "      <td>249997</td>\n",
       "      <td>249997</td>\n",
       "    </tr>\n",
       "  </tbody>\n",
       "</table>\n",
       "</div>"
      ],
      "text/plain": [
       "        am-orig-rollout-op50 - trainer/global_step  \\\n",
       "Step                                                 \n",
       "250084                                      249985   \n",
       "250088                                      249989   \n",
       "250089                                      249990   \n",
       "250090                                      249991   \n",
       "250096                                      249997   \n",
       "\n",
       "        am-orig-rollout-op50 - trainer/global_step__MIN  \\\n",
       "Step                                                      \n",
       "250084                                           249985   \n",
       "250088                                           249989   \n",
       "250089                                           249990   \n",
       "250090                                           249991   \n",
       "250096                                           249997   \n",
       "\n",
       "        am-orig-rollout-op50 - trainer/global_step__MAX  \n",
       "Step                                                     \n",
       "250084                                           249985  \n",
       "250088                                           249989  \n",
       "250089                                           249990  \n",
       "250090                                           249991  \n",
       "250096                                           249997  "
      ]
     },
     "execution_count": 8,
     "metadata": {},
     "output_type": "execute_result"
    }
   ],
   "source": [
    "global_step.tail()"
   ]
  },
  {
   "cell_type": "code",
   "execution_count": null,
   "metadata": {},
   "outputs": [],
   "source": []
  }
 ],
 "metadata": {
  "kernelspec": {
   "display_name": "rl4co_new",
   "language": "python",
   "name": "python3"
  },
  "language_info": {
   "codemirror_mode": {
    "name": "ipython",
    "version": 3
   },
   "file_extension": ".py",
   "mimetype": "text/x-python",
   "name": "python",
   "nbconvert_exporter": "python",
   "pygments_lexer": "ipython3",
   "version": "3.10.0"
  },
  "orig_nbformat": 4
 },
 "nbformat": 4,
 "nbformat_minor": 2
}
