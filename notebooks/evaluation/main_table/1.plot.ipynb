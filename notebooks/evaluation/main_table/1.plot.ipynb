{
 "cells": [
  {
   "attachments": {},
   "cell_type": "markdown",
   "metadata": {},
   "source": [
    "# Plots"
   ]
  },
  {
   "cell_type": "code",
   "execution_count": 1,
   "metadata": {},
   "outputs": [],
   "source": [
    "import pickle\n",
    "from pathlib import Path\n",
    "import matplotlib.pyplot as plt\n",
    "from matplotlib.lines import Line2D\n",
    "import matplotlib.patches as mpatches\n",
    "\n",
    "import glob\n",
    "import sys\n",
    "import torch\n",
    "# def load_data(path):\n"
   ]
  },
  {
   "cell_type": "code",
   "execution_count": 9,
   "metadata": {},
   "outputs": [
    {
     "name": "stdout",
     "output_type": "stream",
     "text": [
      "Concorde time for 50 nodes: 1904.55s\n",
      "Average cost: 5.70\n"
     ]
    }
   ],
   "source": [
    "solver_path = Path(\"../solver/tsp\")\n",
    "solver_files = glob.glob(str(solver_path / \"*tsp*.pkl\"), recursive=True)\n",
    "\n",
    "\n",
    "# Concorde\n",
    "def load_solver_file(num_nodes):\n",
    "    # load pickle of first solver file\n",
    "    file_ = solver_path / f\"tsp_{num_nodes}.pkl\"\n",
    "    with open(file_, 'rb') as f:\n",
    "        costs = pickle.load(f)\n",
    "    print(\"Concorde time for {} nodes: {:.2f}s\".format(num_nodes, costs[0]))\n",
    "    print(\"Average cost: {:.2f}\".format(sum(costs[1])/len(costs[1])))\n",
    "\n",
    "    return torch.Tensor(costs[1])\n",
    "\n",
    "\n",
    "def optimality_gap(bk_sol, opt_sol):\n",
    "    return ((bk_sol - opt_sol) / bk_sol).mean().item() * 100\n",
    "\n",
    "\n",
    "costs = load_solver_file(50)"
   ]
  },
  {
   "cell_type": "code",
   "execution_count": 10,
   "metadata": {},
   "outputs": [
    {
     "name": "stdout",
     "output_type": "stream",
     "text": [
      "['../results/eval_methods_pareto/cvrp50/symnco-cvrp50/results.pkl', '../results/eval_methods_pareto/cvrp50/am-cvrp50-sm/results.pkl', '../results/eval_methods_pareto/cvrp50/am-critic-cvrp50/results.pkl', '../results/eval_methods_pareto/cvrp50/am-cvrp50/results.pkl', '../results/eval_methods_pareto/cvrp50/pomo-cvrp50/results.pkl', '../results/eval_methods_pareto/cvrp50/am-cvrp50-sm-xl/results.pkl']\n"
     ]
    }
   ],
   "source": [
    "\n",
    "# Get all files inside ../results iteratively with .pkl extension\n",
    "files = glob.glob(\"../results/**/*.pkl\", recursive=True)\n",
    "\n",
    "# get only tsp50 files\n",
    "files = [file for file in files if \"cvrp50\" in file]\n",
    "\n",
    "print(files)\n",
    "\n"
   ]
  },
  {
   "cell_type": "code",
   "execution_count": 11,
   "metadata": {},
   "outputs": [],
   "source": [
    "\n",
    "# Load first file\n",
    "with open(files[0], \"rb\") as f:\n",
    "    data = pickle.load(f)\n"
   ]
  },
  {
   "cell_type": "code",
   "execution_count": 12,
   "metadata": {},
   "outputs": [
    {
     "name": "stdout",
     "output_type": "stream",
     "text": [
      "Average cost: 10.3661\n"
     ]
    }
   ],
   "source": [
    "\n",
    "# Concorde\n",
    "def load_solver_file_tsp(num_nodes):\n",
    "    solver_path = Path(\"../solver/tsp\")\n",
    "    solver_files = glob.glob(str(solver_path / \"*tsp*.pkl\"), recursive=True)\n",
    "    # load pickle of first solver file\n",
    "    file_ = solver_path / f\"tsp_{num_nodes}.pkl\"\n",
    "    with open(file_, 'rb') as f:\n",
    "        costs = pickle.load(f)\n",
    "    print(\"Concorde time for {} nodes: {:.2f}s\".format(num_nodes, costs[0]))\n",
    "    print(\"Average cost: {:.4f}\".format(sum(costs[1])/len(costs[1])))\n",
    "\n",
    "    return torch.Tensor(costs[1])\n",
    "\n",
    "\n",
    "\n",
    "# HGS\n",
    "def load_solver_file_vrp(num_nodes):\n",
    "\n",
    "    solver_path = Path(\"../solver/vrp\")\n",
    "\n",
    "    dir_ = solver_path / f\"{num_nodes}_test_seed_1234\"\n",
    "\n",
    "    solver_files = sorted(glob.glob(str(dir_ / \"*.txt\")))\n",
    "    # take the interger of file number and order by it\n",
    "    solver_files = sorted(solver_files, key=lambda x: int(x.split(\"/\")[-1].split(\".\")[0]))\n",
    "    costs = []\n",
    "    for solver_file in solver_files:\n",
    "        with open(solver_file, \"r\") as f:\n",
    "            # get lines as dict\n",
    "            lines = f.readlines()\n",
    "            lines = [line.strip().split() for line in lines]\n",
    "            lines = {line[0]: line[1:] for line in lines}\n",
    "            costs.append(float(lines['obj_val:'][0]))\n",
    "    print(\"Average cost: {:.4f}\".format(sum(costs)/len(costs)))\n",
    "    return torch.Tensor(costs)\n",
    "\n",
    "costs = load_solver_file_vrp(50)\n"
   ]
  },
  {
   "cell_type": "code",
   "execution_count": 13,
   "metadata": {},
   "outputs": [
    {
     "data": {
      "text/plain": [
       "dict_keys(['greedy', 'augment', 'augment_dihedral_8', 'sampling', 'greedy_multistart', 'greedy_multistart_augment_dihedral_8', 'greedy_multistart_augment'])"
      ]
     },
     "execution_count": 13,
     "metadata": {},
     "output_type": "execute_result"
    }
   ],
   "source": [
    "# Make plot\n",
    "\n",
    "experiments = ['greedy', 'augment', 'augment_dihedral_8', 'sampling', \n",
    "               'greedy_multistart', 'greedy_multistart_augment_dihedral_8', \n",
    "               'greedy_multistart_augment']\n",
    "\n",
    "\n",
    "\n",
    "data.keys()"
   ]
  },
  {
   "cell_type": "code",
   "execution_count": 14,
   "metadata": {},
   "outputs": [],
   "source": [
    "color_scheme = {\n",
    "    \"greedy\": \"tab:blue\",\n",
    "    \"augment\": \"tab:orange\",\n",
    "    \"augment_dihedral_8\": \"tab:orange\",\n",
    "    \"sampling\": \"tab:green\",\n",
    "    \"greedy_multistart\": \"tab:red\",\n",
    "    \"greedy_multistart_augment\": \"tab:purple\",\n",
    "    \"greedy_multistart_augment_dihedral_8\": \"tab:purple\",\n",
    "}\n",
    "\n",
    "# marker shape\n",
    "marker_scheme = {\n",
    "    \"greedy\": \"o\",\n",
    "    \"augment\": \"o\",\n",
    "    \"augment_dihedral_8\": \"X\",\n",
    "    \"sampling\": \"o\",\n",
    "    \"greedy_multistart\": \"o\",\n",
    "    \"greedy_multistart_augment\": \"o\",\n",
    "    \"greedy_multistart_augment_dihedral_8\": \"X\",\n",
    "}\n",
    "\n",
    "label_scheme = {\n",
    "    \"greedy\": \"Greedy\",\n",
    "    \"augment\": \"Augment\",\n",
    "    \"augment_dihedral_8\": \"Augment\",\n",
    "    \"sampling\": \"Sampling\",\n",
    "    \"greedy_multistart\": \"Multistart\",\n",
    "    \"greedy_multistart_augment\": \"Multistart + Augment\",\n",
    "    \"greedy_multistart_augment_dihedral_8\": \"Multistart + Augment\"\n",
    "}\n"
   ]
  },
  {
   "cell_type": "code",
   "execution_count": 15,
   "metadata": {},
   "outputs": [],
   "source": [
    "# Make plot with Latex rcparams\n",
    "plt.rcParams.update({\n",
    "    \"text.usetex\": True,\n",
    "    \"font.family\": \"serif\",\n",
    "})"
   ]
  },
  {
   "cell_type": "code",
   "execution_count": 16,
   "metadata": {},
   "outputs": [
    {
     "name": "stdout",
     "output_type": "stream",
     "text": [
      "Average cost: 10.3661\n"
     ]
    }
   ],
   "source": [
    "\n",
    "costs = load_solver_file_vrp(50)"
   ]
  },
  {
   "cell_type": "code",
   "execution_count": 17,
   "metadata": {},
   "outputs": [
    {
     "name": "stdout",
     "output_type": "stream",
     "text": [
      "['../results/eval_methods_pareto/cvrp50/symnco-cvrp50/results.pkl', '../results/eval_methods_pareto/cvrp50/am-cvrp50-sm/results.pkl', '../results/eval_methods_pareto/cvrp50/am-critic-cvrp50/results.pkl', '../results/eval_methods_pareto/cvrp50/am-cvrp50/results.pkl', '../results/eval_methods_pareto/cvrp50/pomo-cvrp50/results.pkl', '../results/eval_methods_pareto/cvrp50/am-cvrp50-sm-xl/results.pkl']\n"
     ]
    }
   ],
   "source": [
    "\n",
    "# Get all files inside ../results iteratively with .pkl extension\n",
    "files = glob.glob(\"../results/**/*.pkl\", recursive=True)\n",
    "\n",
    "# get only tsp50 files\n",
    "files = [file for file in files if \"cvrp50\" in file]\n",
    "\n",
    "print(files)\n"
   ]
  },
  {
   "cell_type": "code",
   "execution_count": 18,
   "metadata": {},
   "outputs": [
    {
     "data": {
      "image/png": "[encoded data removed]",
      "text/plain": [
       "<Figure size 1000x400 with 3 Axes>"
      ]
     },
     "metadata": {},
     "output_type": "display_data"
    }
   ],
   "source": [
    "\n",
    "fig, axs = plt.subplots(1, 3, figsize=(10, 4))\n",
    "\n",
    "\n",
    "### AM\n",
    "\n",
    "ax = axs[0]\n",
    "for experiment in experiments:\n",
    "\n",
    "\n",
    "    x_values = []\n",
    "    y_values = []\n",
    "\n",
    "    for exp in data[experiment]:\n",
    "        \n",
    "        costs_model = -exp['rewards']\n",
    "        gap = optimality_gap(costs_model, costs)\n",
    "\n",
    "        # If greedy, get optimality gap and plot\n",
    "        if experiment == 'greedy':\n",
    "            num_samples = 1\n",
    "\n",
    "        elif experiment == 'augment' or experiment == 'augment_dihedral_8':\n",
    "            num_samples = exp['exp_kwargs']['num_augment']\n",
    "\n",
    "        elif experiment == ('greedy_multistart'):\n",
    "            num_samples = exp['exp_kwargs']['num_starts']\n",
    "\n",
    "        elif experiment == 'greedy_multistart_augment' or experiment == 'greedy_multistart_augment_dihedral_8':\n",
    "            num_samples = exp['exp_kwargs']['num_augment'] * exp['exp_kwargs']['num_starts']\n",
    "        \n",
    "        elif experiment == 'sampling':\n",
    "            num_samples = exp['exp_kwargs']['samples']\n",
    "\n",
    "        else:\n",
    "            raise ValueError(\"Experiment not found\")\n",
    "        x_values.append(num_samples)\n",
    "        y_values.append(gap)\n",
    "\n",
    "        # ax.scatter(num_samples, gap, label={experiment}, \n",
    "        #            color=color_scheme[experiment], marker=marker_scheme[experiment])\n",
    "        # Sorting values for proper line plot\n",
    "        sorted_pairs = sorted(zip(x_values, y_values))\n",
    "        x_values = [pair[0] for pair in sorted_pairs]\n",
    "        y_values = [pair[1] for pair in sorted_pairs]\n",
    "\n",
    "        ax.scatter(x_values, y_values,label=label_scheme[experiment] , \n",
    "                color=color_scheme[experiment], marker=marker_scheme[experiment])\n",
    "        ax.plot(x_values, y_values, color=color_scheme[experiment])\n",
    "\n",
    "# Make nice grid\n",
    "ax.grid(True, which=\"both\", ls=\"--\", alpha=0.5)\n",
    "\n",
    "ax.set_xlim(0.95, None)\n",
    "ax.set_xlabel(\"Number of Samples\")\n",
    "\n",
    "# Make legend. If multiple values are found, then remove them\n",
    "handles, labels = ax.get_legend_handles_labels()\n",
    "# make line in legend\n",
    "line_patch = mpatches.FancyBboxPatch((0, 0), 1, 1, fc='white', ec='black', boxstyle='round,pad=0.2')\n",
    "handles.append(line_patch)\n",
    "by_label = dict(zip(labels, handles))\n",
    "\n",
    "new_handle = Line2D([], [], marker='o', linestyle='None', color=color_scheme['augment'])\n",
    "by_label['Augment'] = new_handle\n",
    "\n",
    "new_handle = Line2D([], [], marker='X', linestyle='None', \n",
    "                    color='black', fillstyle='none')\n",
    "by_label['Dihedral Augment (x8)'] = new_handle\n",
    "\n",
    "\n",
    "\n",
    "ax.legend(by_label.values(), by_label.keys(), loc='upper right')\n",
    "\n",
    "ax.set_ylabel(\"Gap (\\%)\")\n",
    "ax.set_xscale('log')\n"
   ]
  },
  {
   "attachments": {},
   "cell_type": "markdown",
   "metadata": {},
   "source": [
    "## Plotting function"
   ]
  },
  {
   "cell_type": "code",
   "execution_count": 222,
   "metadata": {},
   "outputs": [],
   "source": [
    "from pathlib import Path\n",
    "\n",
    "\n",
    "def plot_pareto(data, costs, experiments, filename):\n",
    "\n",
    "    fig, ax = plt.subplots(1, 1, figsize=(8, 4))\n",
    "\n",
    "    for experiment in experiments:\n",
    "\n",
    "\n",
    "        x_values = []\n",
    "        y_values = []\n",
    "\n",
    "        for exp in data[experiment]:\n",
    "            \n",
    "            costs_model = -exp['rewards']\n",
    "            gap = optimality_gap(costs_model, costs)\n",
    "\n",
    "            # If greedy, get optimality gap and plot\n",
    "            if experiment == 'greedy':\n",
    "                num_samples = 1\n",
    "\n",
    "            elif experiment == 'augment' or experiment == 'augment_dihedral_8':\n",
    "                num_samples = exp['exp_kwargs']['num_augment']\n",
    "\n",
    "            elif experiment == ('greedy_multistart'):\n",
    "                num_samples = exp['exp_kwargs']['num_starts']\n",
    "\n",
    "            elif experiment == 'greedy_multistart_augment' or experiment == 'greedy_multistart_augment_dihedral_8':\n",
    "                num_samples = exp['exp_kwargs']['num_augment'] * exp['exp_kwargs']['num_starts']\n",
    "            \n",
    "            elif experiment == 'sampling':\n",
    "                num_samples = exp['exp_kwargs']['samples']\n",
    "\n",
    "            else:\n",
    "                raise ValueError(\"Experiment not found\")\n",
    "            x_values.append(num_samples)\n",
    "            y_values.append(gap)\n",
    "\n",
    "            # ax.scatter(num_samples, gap, label={experiment}, \n",
    "            #            color=color_scheme[experiment], marker=marker_scheme[experiment])\n",
    "            # Sorting values for proper line plot\n",
    "            sorted_pairs = sorted(zip(x_values, y_values))\n",
    "            x_values = [pair[0] for pair in sorted_pairs]\n",
    "            y_values = [pair[1] for pair in sorted_pairs]\n",
    "\n",
    "            ax.scatter(x_values, y_values,label=label_scheme[experiment] , \n",
    "                    color=color_scheme[experiment], marker=marker_scheme[experiment])\n",
    "            ax.plot(x_values, y_values, color=color_scheme[experiment])\n",
    "\n",
    "    # Make nice grid\n",
    "    ax.grid(True, which=\"both\", ls=\"--\", alpha=0.5)\n",
    "\n",
    "    ax.set_xlim(0.95, None)\n",
    "    ax.set_xlabel(\"Number of Samples\")\n",
    "\n",
    "    # Make legend. If multiple values are found, then remove them\n",
    "    handles, labels = ax.get_legend_handles_labels()\n",
    "    # make line in legend\n",
    "    line_patch = mpatches.FancyBboxPatch((0, 0), 1, 1, fc='white', ec='black', boxstyle='round,pad=0.2')\n",
    "    handles.append(line_patch)\n",
    "    by_label = dict(zip(labels, handles))\n",
    "\n",
    "    new_handle = Line2D([], [], marker='o', linestyle='None', color=color_scheme['augment'])\n",
    "    by_label['Augment'] = new_handle\n",
    "\n",
    "    new_handle = Line2D([], [], marker='X', linestyle='None', \n",
    "                        color='black', fillstyle='none')\n",
    "    by_label['Dihedral Augment (x8)'] = new_handle\n",
    "\n",
    "\n",
    "\n",
    "    ax.legend(by_label.values(), by_label.keys(), loc='upper right')\n",
    "\n",
    "    ax.set_ylabel(\"Gap (\\%)\")\n",
    "    ax.set_xscale('log')\n",
    "\n",
    "    # minimum is 0\n",
    "    # ax.set_ylim(-0.1, None)\n",
    "\n",
    "\n",
    "    # Save file and create folder if it doesn't exist\n",
    "    path = filename + \".pdf\"\n",
    "    # create all parent directories if they don't exist\n",
    "    Path(path).parent.mkdir(parents=True, exist_ok=True)\n",
    "\n",
    "\n",
    "    plt.savefig(path, bbox_inches='tight')\n"
   ]
  },
  {
   "cell_type": "code",
   "execution_count": 19,
   "metadata": {},
   "outputs": [
    {
     "name": "stdout",
     "output_type": "stream",
     "text": [
      "Average cost: 10.3661\n"
     ]
    }
   ],
   "source": [
    "\n",
    "# Concorde\n",
    "def load_solver_file_tsp(num_nodes):\n",
    "    solver_path = Path(\"../solver/tsp\")\n",
    "    solver_files = glob.glob(str(solver_path / \"*tsp*.pkl\"), recursive=True)\n",
    "    # load pickle of first solver file\n",
    "    file_ = solver_path / f\"tsp_{num_nodes}.pkl\"\n",
    "    with open(file_, 'rb') as f:\n",
    "        costs = pickle.load(f)\n",
    "    print(\"Concorde time for {} nodes: {:.2f}s\".format(num_nodes, costs[0]))\n",
    "    print(\"Average cost: {:.4f}\".format(sum(costs[1])/len(costs[1])))\n",
    "\n",
    "    return torch.Tensor(costs[1])\n",
    "\n",
    "\n",
    "\n",
    "# HGS\n",
    "def load_solver_file_vrp(num_nodes):\n",
    "\n",
    "    solver_path = Path(\"../solver/vrp\")\n",
    "\n",
    "    dir_ = solver_path / f\"{num_nodes}_test_seed_1234\"\n",
    "\n",
    "    solver_files = sorted(glob.glob(str(dir_ / \"*.txt\")))\n",
    "    # take the interger of file number and order by it\n",
    "    solver_files = sorted(solver_files, key=lambda x: int(x.split(\"/\")[-1].split(\".\")[0]))\n",
    "    costs = []\n",
    "    for solver_file in solver_files:\n",
    "        with open(solver_file, \"r\") as f:\n",
    "            # get lines as dict\n",
    "            lines = f.readlines()\n",
    "            lines = [line.strip().split() for line in lines]\n",
    "            lines = {line[0]: line[1:] for line in lines}\n",
    "            costs.append(float(lines['obj_val:'][0]))\n",
    "    print(\"Average cost: {:.4f}\".format(sum(costs)/len(costs)))\n",
    "    return torch.Tensor(costs)\n",
    "\n",
    "costs = load_solver_file_vrp(50)\n"
   ]
  },
  {
   "cell_type": "code",
   "execution_count": 20,
   "metadata": {},
   "outputs": [
    {
     "name": "stdout",
     "output_type": "stream",
     "text": [
      "Concorde time for 50 nodes: 1904.55s\n",
      "Average cost: 5.6960\n",
      "plots/tsp50/am-tsp50\n"
     ]
    },
    {
     "ename": "NameError",
     "evalue": "name 'plot_pareto' is not defined",
     "output_type": "error",
     "traceback": [
      "\u001b[0;31m---------------------------------------------------------------------------\u001b[0m",
      "\u001b[0;31mNameError\u001b[0m                                 Traceback (most recent call last)",
      "Cell \u001b[0;32mIn[20], line 28\u001b[0m\n\u001b[1;32m     26\u001b[0m filename \u001b[39m=\u001b[39m \u001b[39m\"\u001b[39m\u001b[39mplots/\u001b[39m\u001b[39m\"\u001b[39m \u001b[39m+\u001b[39m f\u001b[39m.\u001b[39msplit(\u001b[39m\"\u001b[39m\u001b[39m/\u001b[39m\u001b[39m\"\u001b[39m)[\u001b[39m-\u001b[39m\u001b[39m3\u001b[39m] \u001b[39m+\u001b[39m \u001b[39m\"\u001b[39m\u001b[39m/\u001b[39m\u001b[39m\"\u001b[39m \u001b[39m+\u001b[39m f\u001b[39m.\u001b[39msplit(\u001b[39m\"\u001b[39m\u001b[39m/\u001b[39m\u001b[39m\"\u001b[39m)[\u001b[39m-\u001b[39m\u001b[39m2\u001b[39m]\n\u001b[1;32m     27\u001b[0m \u001b[39mprint\u001b[39m(filename)\n\u001b[0;32m---> 28\u001b[0m plot_pareto(data, costs, experiments, filename\u001b[39m=\u001b[39mfilename)\n",
      "\u001b[0;31mNameError\u001b[0m: name 'plot_pareto' is not defined"
     ]
    }
   ],
   "source": [
    "\n",
    "# Get all files inside ../results iteratively with .pkl extension\n",
    "files = glob.glob(\"../results/**/*.pkl\", recursive=True)\n",
    "\n",
    "# TSP50\n",
    "costs = load_solver_file_tsp(50)\n",
    "files = [file for file in files if \"tsp50\" in file]\n",
    "\n",
    "# # TSP20\n",
    "# costs = load_solver_file_tsp(20)\n",
    "# files = [file for file in files if \"tsp20\" in file]\n",
    "\n",
    "\n",
    "# # CVRP50\n",
    "# costs = load_solver_file_vrp(50)\n",
    "# files = [file for file in files if \"cvrp50\" in file]\n",
    "\n",
    "\n",
    "\n",
    "# # CVRP20\n",
    "# costs = load_solver_file_vrp(20)\n",
    "# files = [file for file in files if \"cvrp20\" in file]\n",
    "\n",
    "\n",
    "for f in files:\n",
    "    data = pickle.load(open(f, \"rb\"))\n",
    "    filename = \"plots/\" + f.split(\"/\")[-3] + \"/\" + f.split(\"/\")[-2]\n",
    "    print(filename)\n",
    "    plot_pareto(data, costs, experiments, filename=filename)\n"
   ]
  },
  {
   "attachments": {},
   "cell_type": "markdown",
   "metadata": {},
   "source": [
    "## Save results in table"
   ]
  },
  {
   "cell_type": "code",
   "execution_count": 24,
   "metadata": {},
   "outputs": [
    {
     "name": "stdout",
     "output_type": "stream",
     "text": [
      "Average cost: 10.3661\n"
     ]
    }
   ],
   "source": [
    "\n",
    "# CVRP50\n",
    "costs = load_solver_file_vrp(50)\n",
    "files = [file for file in files if \"cvrp50\" in file]\n",
    "results_name = \"cvrp20\"\n"
   ]
  },
  {
   "cell_type": "code",
   "execution_count": 28,
   "metadata": {},
   "outputs": [
    {
     "name": "stdout",
     "output_type": "stream",
     "text": [
      "Concorde time for 20 nodes: 1132.89s\n",
      "Average cost: 3.8357\n"
     ]
    }
   ],
   "source": [
    "from collections import defaultdict\n",
    "import pandas as pd\n",
    "\n",
    "\n",
    "# Get all files inside ../results iteratively with .pkl extension\n",
    "files = glob.glob(\"../results/**/*.pkl\", recursive=True)\n",
    "\n",
    "# # TSP50\n",
    "# costs = load_solver_file_tsp(50)\n",
    "# files = [file for file in files if \"tsp50\" in file]\n",
    "# results_name = \"tsp50\"\n",
    "\n",
    "# TSP20\n",
    "costs = load_solver_file_tsp(20)\n",
    "files = [file for file in files if \"tsp20\" in file]\n",
    "results_name = \"tsp20\"\n",
    "\n",
    "\n",
    "# # CVRP50\n",
    "# costs = load_solver_file_vrp(50)\n",
    "# files = [file for file in files if \"cvrp50\" in file]\n",
    "# results_name = \"cvrp50\"\n",
    "\n",
    "\n",
    "\n",
    "# # CVRP20\n",
    "# costs = load_solver_file_vrp(50)\n",
    "# files = [file for file in files if \"cvrp50\" in file]\n",
    "# results_name = \"cvrp50\"\n",
    "\n",
    "\n",
    "# Make a CSV table of all results\n",
    "csv_results = defaultdict(list)\n",
    "\n",
    "\n",
    "for f in files:\n",
    "    data = pickle.load(open(f, \"rb\"))\n",
    "    filename = \"plots/\" + f.split(\"/\")[-3] + \"/\" + f.split(\"/\")[-2]\n",
    "\n",
    "    model_name = filename.split(\"/\")[-1]\n",
    "\n",
    "    for experiment in experiments:\n",
    "        \n",
    "        for exp in data[experiment]:\n",
    "\n",
    "            costs_model = -exp['rewards']\n",
    "            gap = optimality_gap(costs_model, costs)\n",
    "\n",
    "            costs_model_mean = costs_model.mean().item()\n",
    "\n",
    "            time = exp['inference_time']\n",
    "\n",
    "            csv_results['model'].append(model_name)\n",
    "\n",
    "            # exp name is exp['exp_kwargs'] combo of key and values if any\n",
    "            kwargs = \"\"\n",
    "            for key, value in exp['exp_kwargs'].items():\n",
    "                kwargs += f\"{key}_{value}_\"\n",
    "            csv_results['experiment'].append(experiment)\n",
    "            csv_results['kwargs'].append(kwargs)\n",
    "            csv_results['gap'].append(gap)\n",
    "            csv_results['costs'].append(costs_model_mean)\n",
    "            csv_results['time'].append(time)\n",
    "    \n",
    "\n",
    "\n",
    "# Save as markdown table\n",
    "\n",
    "df = pd.DataFrame(csv_results)\n",
    "# df.to_csv(\"results.csv\", index=False)\n",
    "\n",
    "\n",
    "# # SAve as markdown table\n",
    "# df.to_markdown(\"results.md\", index=False)\n",
    "\n",
    "\n",
    "# to html\n",
    "# df.to_html(\"results.html\", index=False)\n",
    "\n",
    "# to excel\n",
    "df.to_excel(f\"tables/{results_name}.xlsx\", index=False)"
   ]
  }
 ],
 "metadata": {
  "kernelspec": {
   "display_name": "env",
   "language": "python",
   "name": "python3"
  },
  "language_info": {
   "codemirror_mode": {
    "name": "ipython",
    "version": 3
   },
   "file_extension": ".py",
   "mimetype": "text/x-python",
   "name": "python",
   "nbconvert_exporter": "python",
   "pygments_lexer": "ipython3",
   "version": "3.10.9"
  },
  "orig_nbformat": 4
 },
 "nbformat": 4,
 "nbformat_minor": 2
}
