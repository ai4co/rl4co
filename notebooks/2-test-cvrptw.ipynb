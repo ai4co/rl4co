{
 "cells": [
  {
   "cell_type": "code",
   "execution_count": 1,
   "metadata": {},
   "outputs": [],
   "source": [
    "%load_ext autoreload\n",
    "%autoreload 2\n",
    "\n",
    "import torch\n",
    "\n",
    "from rl4co.envs import CVRPEnv, CVRPTWEnv\n",
    "from rl4co.models.nn.utils import rollout, random_policy\n",
    "from rl4co.models.zoo.am import AttentionModel\n",
    "from rl4co.utils.trainer import RL4COTrainer"
   ]
  },
  {
   "cell_type": "code",
   "execution_count": 4,
   "metadata": {},
   "outputs": [],
   "source": [
    "env = CVRPTWEnv(\n",
    "    num_loc=30,\n",
    "    min_loc=0,\n",
    "    max_loc=20,\n",
    "    min_demand=1,\n",
    "    max_demand=10,\n",
    "    vehicle_capacity=1,\n",
    "    min_time=0,\n",
    "    max_time=480,\n",
    ")"
   ]
  },
  {
   "cell_type": "code",
   "execution_count": 16,
   "metadata": {},
   "outputs": [
    {
     "name": "stdout",
     "output_type": "stream",
     "text": [
      "Start rollout...\n"
     ]
    },
    {
     "ename": "RuntimeError",
     "evalue": "invalid multinomial distribution (sum of probabilities <= 0)",
     "output_type": "error",
     "traceback": [
      "\u001b[0;31m---------------------------------------------------------------------------\u001b[0m",
      "\u001b[0;31mRuntimeError\u001b[0m                              Traceback (most recent call last)",
      "\u001b[1;32m/datasets/nayeli/rl4co/rl4co/notebooks/2-test-cvrptw.ipynb Cell 3\u001b[0m line \u001b[0;36m5\n\u001b[1;32m      <a href='vscode-notebook-cell://ssh-remote%2Bkaist/datasets/nayeli/rl4co/rl4co/notebooks/2-test-cvrptw.ipynb#W2sdnNjb2RlLXJlbW90ZQ%3D%3D?line=1'>2</a>\u001b[0m batch_size \u001b[39m=\u001b[39m \u001b[39m3\u001b[39m\n\u001b[1;32m      <a href='vscode-notebook-cell://ssh-remote%2Bkaist/datasets/nayeli/rl4co/rl4co/notebooks/2-test-cvrptw.ipynb#W2sdnNjb2RlLXJlbW90ZQ%3D%3D?line=3'>4</a>\u001b[0m \u001b[39mprint\u001b[39m(\u001b[39m\"\u001b[39m\u001b[39mStart rollout...\u001b[39m\u001b[39m\"\u001b[39m)\n\u001b[0;32m----> <a href='vscode-notebook-cell://ssh-remote%2Bkaist/datasets/nayeli/rl4co/rl4co/notebooks/2-test-cvrptw.ipynb#W2sdnNjb2RlLXJlbW90ZQ%3D%3D?line=4'>5</a>\u001b[0m reward, td, actions \u001b[39m=\u001b[39m rollout(\n\u001b[1;32m      <a href='vscode-notebook-cell://ssh-remote%2Bkaist/datasets/nayeli/rl4co/rl4co/notebooks/2-test-cvrptw.ipynb#W2sdnNjb2RlLXJlbW90ZQ%3D%3D?line=5'>6</a>\u001b[0m     env\u001b[39m=\u001b[39;49menv, td\u001b[39m=\u001b[39;49menv\u001b[39m.\u001b[39;49mreset(batch_size\u001b[39m=\u001b[39;49m[batch_size]), policy\u001b[39m=\u001b[39;49mrandom_policy, max_steps\u001b[39m=\u001b[39;49m\u001b[39m100\u001b[39;49m\n\u001b[1;32m      <a href='vscode-notebook-cell://ssh-remote%2Bkaist/datasets/nayeli/rl4co/rl4co/notebooks/2-test-cvrptw.ipynb#W2sdnNjb2RlLXJlbW90ZQ%3D%3D?line=6'>7</a>\u001b[0m )\n\u001b[1;32m      <a href='vscode-notebook-cell://ssh-remote%2Bkaist/datasets/nayeli/rl4co/rl4co/notebooks/2-test-cvrptw.ipynb#W2sdnNjb2RlLXJlbW90ZQ%3D%3D?line=7'>8</a>\u001b[0m \u001b[39mprint\u001b[39m(\u001b[39m\"\u001b[39m\u001b[39mDone.\u001b[39m\u001b[39m\"\u001b[39m)\n\u001b[1;32m      <a href='vscode-notebook-cell://ssh-remote%2Bkaist/datasets/nayeli/rl4co/rl4co/notebooks/2-test-cvrptw.ipynb#W2sdnNjb2RlLXJlbW90ZQ%3D%3D?line=8'>9</a>\u001b[0m env\u001b[39m.\u001b[39mrender(td, actions)\n",
      "File \u001b[0;32m~/rl4co/rl4co/rl4co/models/nn/utils.py:73\u001b[0m, in \u001b[0;36mrollout\u001b[0;34m(env, td, policy, max_steps)\u001b[0m\n\u001b[1;32m     70\u001b[0m steps \u001b[39m=\u001b[39m \u001b[39m0\u001b[39m\n\u001b[1;32m     72\u001b[0m \u001b[39mwhile\u001b[39;00m \u001b[39mnot\u001b[39;00m td[\u001b[39m\"\u001b[39m\u001b[39mdone\u001b[39m\u001b[39m\"\u001b[39m]\u001b[39m.\u001b[39mall():\n\u001b[0;32m---> 73\u001b[0m     td \u001b[39m=\u001b[39m policy(td)\n\u001b[1;32m     74\u001b[0m     actions\u001b[39m.\u001b[39mappend(td[\u001b[39m\"\u001b[39m\u001b[39maction\u001b[39m\u001b[39m\"\u001b[39m])\n\u001b[1;32m     75\u001b[0m     td \u001b[39m=\u001b[39m env\u001b[39m.\u001b[39mstep(td)[\u001b[39m\"\u001b[39m\u001b[39mnext\u001b[39m\u001b[39m\"\u001b[39m]\n",
      "File \u001b[0;32m~/rl4co/rl4co/rl4co/models/nn/utils.py:58\u001b[0m, in \u001b[0;36mrandom_policy\u001b[0;34m(td)\u001b[0m\n\u001b[1;32m     56\u001b[0m \u001b[39mdef\u001b[39;00m \u001b[39mrandom_policy\u001b[39m(td):\n\u001b[1;32m     57\u001b[0m \u001b[39m    \u001b[39m\u001b[39m\"\"\"Helper function to select a random action from available actions\"\"\"\u001b[39;00m\n\u001b[0;32m---> 58\u001b[0m     action \u001b[39m=\u001b[39m torch\u001b[39m.\u001b[39;49mmultinomial(td[\u001b[39m\"\u001b[39;49m\u001b[39maction_mask\u001b[39;49m\u001b[39m\"\u001b[39;49m]\u001b[39m.\u001b[39;49mfloat(), \u001b[39m1\u001b[39;49m)\u001b[39m.\u001b[39msqueeze(\u001b[39m-\u001b[39m\u001b[39m1\u001b[39m)\n\u001b[1;32m     59\u001b[0m     td\u001b[39m.\u001b[39mset(\u001b[39m\"\u001b[39m\u001b[39maction\u001b[39m\u001b[39m\"\u001b[39m, action)\n\u001b[1;32m     60\u001b[0m     \u001b[39mreturn\u001b[39;00m td\n",
      "\u001b[0;31mRuntimeError\u001b[0m: invalid multinomial distribution (sum of probabilities <= 0)"
     ]
    }
   ],
   "source": [
    "# try random policy\n",
    "batch_size = 3\n",
    "\n",
    "print(\"Start rollout...\")\n",
    "reward, td, actions = rollout(\n",
    "    env=env, td=env.reset(batch_size=[batch_size]), policy=random_policy, max_steps=100\n",
    ")\n",
    "print(\"Done.\")\n",
    "env.render(td, actions)"
   ]
  },
  {
   "cell_type": "code",
   "execution_count": null,
   "metadata": {},
   "outputs": [],
   "source": []
  }
 ],
 "metadata": {
  "kernelspec": {
   "display_name": "venv-rl4co",
   "language": "python",
   "name": "python3"
  },
  "language_info": {
   "codemirror_mode": {
    "name": "ipython",
    "version": 3
   },
   "file_extension": ".py",
   "mimetype": "text/x-python",
   "name": "python",
   "nbconvert_exporter": "python",
   "pygments_lexer": "ipython3",
   "version": "3.10.12"
  }
 },
 "nbformat": 4,
 "nbformat_minor": 2
}
