{
 "cells": [
  {
   "attachments": {},
   "cell_type": "markdown",
   "metadata": {},
   "source": [
    "# Using Flash Attention 2 ⚡"
   ]
  },
  {
   "cell_type": "markdown",
   "metadata": {},
   "source": [
    "In this notebook we will compare [Flash Attention 2](https://github.com/Dao-AILab/flash-attention) with the [`torch.nn.functional.scaled_dot_product_attention`](https://pytorch.org/docs/stable/generated/torch.nn.functional.scaled_dot_product_attention.html) function and a simple implementation."
   ]
  },
  {
   "attachments": {},
   "cell_type": "markdown",
   "metadata": {},
   "source": [
    "### Installation\n",
    "\n",
    "Follow instructions here:\n",
    "https://github.com/Dao-AILab/flash-attention"
   ]
  },
  {
   "cell_type": "code",
   "execution_count": 1,
   "metadata": {},
   "outputs": [],
   "source": [
    "## Uncomment the following line to install the package from PyPI\n",
    "## You may need to restart the runtime in Colab after this\n",
    "## Remember to choose a GPU runtime for faster training!\n",
    "\n",
    "# !pip install rl4co"
   ]
  },
  {
   "attachments": {},
   "cell_type": "markdown",
   "metadata": {},
   "source": [
    "### Imports"
   ]
  },
  {
   "cell_type": "code",
   "execution_count": 2,
   "metadata": {},
   "outputs": [
    {
     "name": "stderr",
     "output_type": "stream",
     "text": [
      "/home/botu/.local/lib/python3.10/site-packages/tqdm/auto.py:21: TqdmWarning: IProgress not found. Please update jupyter and ipywidgets. See https://ipywidgets.readthedocs.io/en/stable/user_install.html\n",
      "  from .autonotebook import tqdm as notebook_tqdm\n"
     ]
    }
   ],
   "source": [
    "import torch\n",
    "import torch.utils.benchmark as benchmark\n",
    "\n",
    "\n",
    "# Simple implementation in PyTorch\n",
    "from rl4co.models.nn.attention import scaled_dot_product_attention_simple\n",
    "# PyTorch official implementation of FlashAttention 1\n",
    "from torch.nn.functional import scaled_dot_product_attention\n",
    "# FlashAttention 2\n",
    "from rl4co.models.nn.flash_attention import scaled_dot_product_attention_flash_attn\n",
    "\n",
    "from rl4co.envs import TSPEnv\n",
    "from rl4co.models.zoo.am import AttentionModel\n",
    "from rl4co.utils.trainer import RL4COTrainer\n",
    "from rl4co.models.common.constructive.autoregressive import GraphAttentionEncoder\n",
    "\n"
   ]
  },
  {
   "cell_type": "markdown",
   "metadata": {},
   "source": [
    "### Testing differences with simple tensors"
   ]
  },
  {
   "cell_type": "code",
   "execution_count": 3,
   "metadata": {},
   "outputs": [
    {
     "name": "stdout",
     "output_type": "stream",
     "text": [
      "True\n",
      "True\n",
      "tensor(0.0005, device='cuda:0', dtype=torch.float16) tensor(1.2159e-05, device='cuda:0', dtype=torch.float16)\n",
      "tensor(0.0005, device='cuda:0', dtype=torch.float16) tensor(6.3777e-06, device='cuda:0', dtype=torch.float16)\n"
     ]
    }
   ],
   "source": [
    "bs, head, length, d = 64, 8, 512, 128\n",
    "\n",
    "query = torch.rand(bs, head, length, d, dtype=torch.float16, device=\"cuda\")\n",
    "key = torch.rand(bs, head, length, d, dtype=torch.float16, device=\"cuda\")\n",
    "value = torch.rand(bs, head, length, d, dtype=torch.float16, device=\"cuda\")\n",
    "\n",
    "# Simple implementation in PyTorch\n",
    "out_simple = scaled_dot_product_attention_simple(query, key, value)\n",
    "\n",
    "# PyTorch official implementation of FlashAttention 1\n",
    "out_pytorch = scaled_dot_product_attention(query, key, value)\n",
    "\n",
    "# FlashAttention 2\n",
    "out_flash_attn = scaled_dot_product_attention_flash_attn(query, key, value)\n",
    "\n",
    "\n",
    "print(torch.allclose(out_simple, out_pytorch, atol=1e-3))\n",
    "print(torch.allclose(out_flash_attn, out_pytorch, atol=1e-3))\n",
    "\n",
    "print(torch.max(torch.abs(out_simple - out_pytorch)), torch.mean(torch.abs(out_simple - out_pytorch)))\n",
    "print(torch.max(torch.abs(out_flash_attn - out_pytorch)), torch.mean(torch.abs(out_flash_attn - out_pytorch)))\n"
   ]
  },
  {
   "cell_type": "markdown",
   "metadata": {},
   "source": [
    "## Testing Graph Attention Encoders with Flash Attention 2"
   ]
  },
  {
   "cell_type": "code",
   "execution_count": 4,
   "metadata": {},
   "outputs": [
    {
     "data": {
      "text/plain": [
       "GraphAttentionEncoder(\n",
       "  (init_embedding): TSPInitEmbedding(\n",
       "    (init_embed): Linear(in_features=2, out_features=128, bias=True)\n",
       "  )\n",
       "  (net): GraphAttentionNetwork(\n",
       "    (layers): Sequential(\n",
       "      (0): MultiHeadAttentionLayer(\n",
       "        (0): SkipConnection(\n",
       "          (module): MultiHeadAttention(\n",
       "            (Wqkv): Linear(in_features=128, out_features=384, bias=True)\n",
       "            (out_proj): Linear(in_features=128, out_features=128, bias=True)\n",
       "          )\n",
       "        )\n",
       "        (1): Normalization(\n",
       "          (normalizer): BatchNorm1d(128, eps=1e-05, momentum=0.1, affine=True, track_running_stats=True)\n",
       "        )\n",
       "        (2): SkipConnection(\n",
       "          (module): Sequential(\n",
       "            (0): Linear(in_features=128, out_features=512, bias=True)\n",
       "            (1): ReLU()\n",
       "            (2): Linear(in_features=512, out_features=128, bias=True)\n",
       "          )\n",
       "        )\n",
       "        (3): Normalization(\n",
       "          (normalizer): BatchNorm1d(128, eps=1e-05, momentum=0.1, affine=True, track_running_stats=True)\n",
       "        )\n",
       "      )\n",
       "      (1): MultiHeadAttentionLayer(\n",
       "        (0): SkipConnection(\n",
       "          (module): MultiHeadAttention(\n",
       "            (Wqkv): Linear(in_features=128, out_features=384, bias=True)\n",
       "            (out_proj): Linear(in_features=128, out_features=128, bias=True)\n",
       "          )\n",
       "        )\n",
       "        (1): Normalization(\n",
       "          (normalizer): BatchNorm1d(128, eps=1e-05, momentum=0.1, affine=True, track_running_stats=True)\n",
       "        )\n",
       "        (2): SkipConnection(\n",
       "          (module): Sequential(\n",
       "            (0): Linear(in_features=128, out_features=512, bias=True)\n",
       "            (1): ReLU()\n",
       "            (2): Linear(in_features=512, out_features=128, bias=True)\n",
       "          )\n",
       "        )\n",
       "        (3): Normalization(\n",
       "          (normalizer): BatchNorm1d(128, eps=1e-05, momentum=0.1, affine=True, track_running_stats=True)\n",
       "        )\n",
       "      )\n",
       "      (2): MultiHeadAttentionLayer(\n",
       "        (0): SkipConnection(\n",
       "          (module): MultiHeadAttention(\n",
       "            (Wqkv): Linear(in_features=128, out_features=384, bias=True)\n",
       "            (out_proj): Linear(in_features=128, out_features=128, bias=True)\n",
       "          )\n",
       "        )\n",
       "        (1): Normalization(\n",
       "          (normalizer): BatchNorm1d(128, eps=1e-05, momentum=0.1, affine=True, track_running_stats=True)\n",
       "        )\n",
       "        (2): SkipConnection(\n",
       "          (module): Sequential(\n",
       "            (0): Linear(in_features=128, out_features=512, bias=True)\n",
       "            (1): ReLU()\n",
       "            (2): Linear(in_features=512, out_features=128, bias=True)\n",
       "          )\n",
       "        )\n",
       "        (3): Normalization(\n",
       "          (normalizer): BatchNorm1d(128, eps=1e-05, momentum=0.1, affine=True, track_running_stats=True)\n",
       "        )\n",
       "      )\n",
       "    )\n",
       "  )\n",
       ")"
      ]
     },
     "execution_count": 4,
     "metadata": {},
     "output_type": "execute_result"
    }
   ],
   "source": [
    "env = TSPEnv(generator_params=dict(num_loc=1000))\n",
    "\n",
    "num_heads = 8\n",
    "embed_dim = 128\n",
    "num_layers = 3\n",
    "enc_simple = GraphAttentionEncoder(env, num_heads=num_heads, embed_dim=embed_dim, num_layers=num_layers,\n",
    "                            sdpa_fn=scaled_dot_product_attention_simple)\n",
    "\n",
    "enc_fa1 = GraphAttentionEncoder(env, num_heads=num_heads, embed_dim=embed_dim, num_layers=num_layers,\n",
    "                            sdpa_fn=scaled_dot_product_attention)\n",
    "\n",
    "enc_fa2 = GraphAttentionEncoder(env, num_heads=num_heads, embed_dim=embed_dim, num_layers=num_layers,\n",
    "                            sdpa_fn=scaled_dot_product_attention_flash_attn)\n",
    "\n",
    "# Flash Attention supports only FP16 and BFloat16\n",
    "enc_simple.to(\"cuda\").half()\n",
    "enc_fa1.to(\"cuda\").half()\n",
    "enc_fa2.to(\"cuda\").half()"
   ]
  },
  {
   "cell_type": "code",
   "execution_count": 5,
   "metadata": {},
   "outputs": [],
   "source": [
    "def build_models(num_heads=8, embed_dim=128, num_layers=3):\n",
    "    enc_simple = GraphAttentionEncoder(env, num_heads=num_heads, embed_dim=embed_dim, num_layers=num_layers,\n",
    "                                sdpa_fn=scaled_dot_product_attention_simple)\n",
    "\n",
    "    enc_fa1 = GraphAttentionEncoder(env, num_heads=num_heads, embed_dim=embed_dim, num_layers=num_layers,\n",
    "                                sdpa_fn=scaled_dot_product_attention)\n",
    "\n",
    "    enc_fa2 = GraphAttentionEncoder(env, num_heads=num_heads, embed_dim=embed_dim, num_layers=num_layers,\n",
    "                                sdpa_fn=scaled_dot_product_attention_flash_attn)\n",
    "\n",
    "    # Flash Attention supports only FP16 and BFloat16\n",
    "    enc_simple.to(\"cuda\").half()\n",
    "    enc_fa1.to(\"cuda\").half()\n",
    "    enc_fa2.to(\"cuda\").half()\n",
    "    return enc_simple, enc_fa1, enc_fa2"
   ]
  },
  {
   "cell_type": "code",
   "execution_count": 6,
   "metadata": {},
   "outputs": [
    {
     "name": "stdout",
     "output_type": "stream",
     "text": [
      "Times for problem size 10: Simple 0.633, FA1 0.511, FA2 0.554\n",
      "Times for problem size 20: Simple 0.646, FA1 0.535, FA2 0.565\n",
      "Times for problem size 50: Simple 0.663, FA1 0.547, FA2 0.580\n",
      "Times for problem size 100: Simple 0.664, FA1 0.547, FA2 0.580\n",
      "Times for problem size 200: Simple 0.670, FA1 0.509, FA2 0.585\n",
      "Times for problem size 500: Simple 0.669, FA1 0.512, FA2 0.582\n",
      "Times for problem size 1000: Simple 1.088, FA1 0.555, FA2 0.609\n",
      "Times for problem size 2000: Simple 3.626, FA1 1.292, FA2 0.790\n",
      "Times for problem size 5000: Simple 20.332, FA1 5.748, FA2 2.943\n",
      "Times for problem size 10000: Simple 80.337, FA1 20.701, FA2 10.230\n"
     ]
    }
   ],
   "source": [
    "threads = 32\n",
    "sizes = [10, 20, 50, 100, 200, 500, 1000, 2000, 5000, 10000]\n",
    "\n",
    "times_simple = []\n",
    "times_fa1 = []\n",
    "times_fa2 = []\n",
    "\n",
    "# for embed_dim in [64, 128, 256]:\n",
    "for embed_dim in [128]:\n",
    "    # Get models\n",
    "    enc_simple, enc_fa1, enc_fa2 = build_models(embed_dim=embed_dim)\n",
    "\n",
    "    for problem_size in sizes:\n",
    "\n",
    "        with torch.no_grad():\n",
    "            # initial data\n",
    "            env = TSPEnv(generator_params=dict(num_loc=problem_size))\n",
    "            td_init = env.reset(batch_size=[2])\n",
    "            # set dtype to float16\n",
    "            td_init = td_init.to(dest=\"cuda\", dtype=torch.float16)\n",
    "\n",
    "            t_simple = benchmark.Timer(\n",
    "                setup='x = td_init',\n",
    "                stmt='encode(x)',\n",
    "                globals={'td_init': td_init, 'encode': enc_simple},\n",
    "                num_threads=threads)\n",
    "\n",
    "            t_fa1 = benchmark.Timer(\n",
    "                setup='x = td_init',\n",
    "                stmt='encode(x)',\n",
    "                globals={'td_init': td_init, 'encode': enc_fa1},\n",
    "                num_threads=threads)\n",
    "            \n",
    "            t_fa2 = benchmark.Timer(\n",
    "                setup='x = td_init',\n",
    "                stmt='encode(x)',\n",
    "                globals={'td_init': td_init, 'encode': enc_fa2},\n",
    "                num_threads=threads)\n",
    "            \n",
    "            times_simple.append(torch.tensor(t_simple.blocked_autorange().times).mean())\n",
    "            times_fa2.append(torch.tensor(t_fa2.blocked_autorange().times).mean())\n",
    "            times_fa1.append(torch.tensor(t_fa1.blocked_autorange().times).mean())\n",
    "\n",
    "            print(f\"Times for problem size {problem_size}: Simple {times_simple[-1]*1e3:.3f}, FA1 {times_fa1[-1]*1e3:.3f}, FA2 {times_fa2[-1]*1e3:.3f}\")\n",
    "\n",
    "    # eliminate cache\n",
    "    torch.cuda.empty_cache()"
   ]
  },
  {
   "cell_type": "code",
   "execution_count": 7,
   "metadata": {},
   "outputs": [
    {
     "data": {
      "image/png": "[encoded data removed]",
      "text/plain": [
       "<Figure size 1000x500 with 1 Axes>"
      ]
     },
     "metadata": {},
     "output_type": "display_data"
    }
   ],
   "source": [
    "# Plot results\n",
    "import matplotlib.pyplot as plt\n",
    "\n",
    "\n",
    "fig, ax = plt.subplots(1, 1, figsize=(10, 5))\n",
    "ax.plot(sizes, times_simple, label=\"Simple\")\n",
    "ax.plot(sizes, times_fa1, label=\"FlashAttention 1\")\n",
    "ax.plot(sizes, times_fa2, label=\"FlashAttention 2\")\n",
    "\n",
    "# fancy grid\n",
    "ax.grid(True, which=\"both\", ls=\"-\", alpha=0.5)\n",
    "ax.set_xscale(\"log\")\n",
    "ax.set_yscale(\"log\")\n",
    "ax.set_xlabel(\"Problem size\")\n",
    "ax.set_ylabel(\"Time (ms)\")\n",
    "ax.legend()\n",
    "\n",
    "# Instead of 10^1, 10^2... show nuber\n",
    "ax.xaxis.set_major_formatter(plt.FuncFormatter(lambda x, _: f\"{x:.0f}\"))\n",
    "\n",
    "plt.show()"
   ]
  },
  {
   "cell_type": "markdown",
   "metadata": {},
   "source": [
    "Using FlashAttention can speed up inference even at small context lengths (number of nodes in the graph). Difference can be of several times for large graphs between different implementations!"
   ]
  }
 ],
 "metadata": {
  "kernelspec": {
   "display_name": "env",
   "language": "python",
   "name": "python3"
  },
  "language_info": {
   "codemirror_mode": {
    "name": "ipython",
    "version": 3
   },
   "file_extension": ".py",
   "mimetype": "text/x-python",
   "name": "python",
   "nbconvert_exporter": "python",
   "pygments_lexer": "ipython3",
   "version": "3.10.12"
  },
  "orig_nbformat": 4
 },
 "nbformat": 4,
 "nbformat_minor": 2
}
